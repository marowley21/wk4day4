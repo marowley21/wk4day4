{
 "cells": [
  {
   "cell_type": "markdown",
   "metadata": {},
   "source": [
    "# Advanced APIs"
   ]
  },
  {
   "cell_type": "markdown",
   "metadata": {},
   "source": [
    "### Set up for Success"
   ]
  },
  {
   "cell_type": "code",
   "execution_count": null,
   "metadata": {},
   "outputs": [],
   "source": [
    "import requests\n"
   ]
  },
  {
   "cell_type": "markdown",
   "metadata": {},
   "source": [
    "## GET Requests"
   ]
  },
  {
   "cell_type": "code",
   "execution_count": null,
   "metadata": {
    "scrolled": true
   },
   "outputs": [],
   "source": []
  },
  {
   "cell_type": "markdown",
   "metadata": {},
   "source": [
    "## In Class Assignment A\n",
    "\n",
    "#### make a function that returns a set of all the categories/subject found in the book list"
   ]
  },
  {
   "cell_type": "code",
   "execution_count": null,
   "metadata": {},
   "outputs": [],
   "source": []
  },
  {
   "cell_type": "markdown",
   "metadata": {},
   "source": [
    "## In Class Assignment B\n",
    "\n",
    "#### make a function that returns a list of all the books(dicts) in a category"
   ]
  },
  {
   "cell_type": "code",
   "execution_count": null,
   "metadata": {},
   "outputs": [],
   "source": []
  },
  {
   "cell_type": "markdown",
   "metadata": {},
   "source": [
    "## Using a SLUG\n",
    "A Slug is the unique identifying part of a web address, typically at the end of the URL"
   ]
  },
  {
   "cell_type": "code",
   "execution_count": null,
   "metadata": {
    "scrolled": true
   },
   "outputs": [],
   "source": []
  },
  {
   "cell_type": "markdown",
   "metadata": {},
   "source": [
    "## POST Requests\n",
    "\n",
    "#### json.dumps will convert a dictionary into a JSON String ready for transport"
   ]
  },
  {
   "cell_type": "code",
   "execution_count": null,
   "metadata": {
    "scrolled": true
   },
   "outputs": [],
   "source": [
    "\n"
   ]
  },
  {
   "cell_type": "markdown",
   "metadata": {},
   "source": [
    "## Authentication - Basic Authorization\n"
   ]
  },
  {
   "cell_type": "code",
   "execution_count": null,
   "metadata": {
    "scrolled": true
   },
   "outputs": [],
   "source": []
  },
  {
   "cell_type": "code",
   "execution_count": null,
   "metadata": {},
   "outputs": [],
   "source": []
  },
  {
   "cell_type": "markdown",
   "metadata": {},
   "source": [
    "## Authentication - Bearer Authorization & PUT Requests"
   ]
  },
  {
   "cell_type": "code",
   "execution_count": null,
   "metadata": {},
   "outputs": [],
   "source": []
  },
  {
   "cell_type": "code",
   "execution_count": null,
   "metadata": {
    "scrolled": false
   },
   "outputs": [],
   "source": []
  },
  {
   "cell_type": "markdown",
   "metadata": {},
   "source": [
    "## DELETE Request"
   ]
  },
  {
   "cell_type": "code",
   "execution_count": null,
   "metadata": {},
   "outputs": [],
   "source": []
  },
  {
   "cell_type": "code",
   "execution_count": null,
   "metadata": {},
   "outputs": [],
   "source": []
  },
  {
   "cell_type": "markdown",
   "metadata": {},
   "source": [
    "## Display Images in Jupyter notebook"
   ]
  },
  {
   "cell_type": "code",
   "execution_count": null,
   "metadata": {},
   "outputs": [],
   "source": [
    "\n"
   ]
  },
  {
   "cell_type": "markdown",
   "metadata": {},
   "source": [
    "## Make an Application"
   ]
  },
  {
   "cell_type": "code",
   "execution_count": null,
   "metadata": {},
   "outputs": [],
   "source": [
    "from getpass import getpass\n",
    "import time\n",
    "from IPython.display import clear_output # Use for clearing output in code\n",
    "from IPython.display import Image\n",
    "from IPython.display import display\n",
    "\n",
    "\n",
    "# put into a class called User\n",
    "class Login():\n",
    "    \n",
    "    def login(self, email):\n",
    "        clear_output()\n",
    "        password=getpass(\"Password: \")\n",
    "        user=login_user(email, password)\n",
    "        return user\n",
    "\n",
    "    def register(self):\n",
    "        clear_output()\n",
    "        print(\"Registration:\")\n",
    "        email=input(\"Email: \")\n",
    "        first_name=input(\"First Name: \")\n",
    "        last_name=input(\"Last Name: \")\n",
    "        password=getpass(\"Password: \")\n",
    "\n",
    "        user_dict={\n",
    "            \"email\":email,\n",
    "            \"first_name\":first_name,\n",
    "            \"last_name\":last_name,\n",
    "            \"password\":password\n",
    "        }\n",
    "        return register_user(user_dict)\n",
    "\n",
    "        \n",
    "\n",
    "\n",
    "\n",
    "# put into a class called Display\n",
    "class Display():\n",
    "    \n",
    "    def display_book_short(self, book):\n",
    "        print(f\"{book['id']} \\t| {book['title'][:50].ljust(50)} | \\t{book['subject']}\")\n",
    "\n",
    "    def display_book_long(self, book):\n",
    "        cover=Image(url=book['img']) \n",
    "        display(cover)\n",
    "        print(f'''\n",
    "    Title: {book['title']}    \n",
    "    Author: {book['author']}        \n",
    "    Pages: {book['pages']}\n",
    "    Subject: {book['subject']}\n",
    "    Summary: {book['summary']}\n",
    "        ''')\n",
    "\n",
    "class ReadingList:\n",
    "    def __init__(self):\n",
    "        self.reading_list=[]\n",
    "    \n",
    "    def add_book(self, book):\n",
    "        if book not in self.reading_list:\n",
    "            self.reading_list.append(book)\n",
    "        \n",
    "    def remove_book(self, book):\n",
    "        self.reading_list.remove(book)\n",
    "        \n",
    "    def empty(self):\n",
    "        self.reading_list=set()\n",
    "    \n",
    "    def show_book_list(self):\n",
    "        clear_output()\n",
    "        if not self.reading_list:\n",
    "            print(\"Your Book List Is Empty\")\n",
    "        for book in self.reading_list:\n",
    "            print(f'''\n",
    "{\"=\"*50}\n",
    "\\n\n",
    "Title:\\t {book['title']}\n",
    "Book id: {book['id']}\n",
    "Author:\\t {book['author']}\n",
    "Subject: {book['subject']}\n",
    "Summary: {book['summary']}\n",
    "\\n\n",
    "{\"=\"*50}\n",
    "\\n\n",
    "            ''')\n",
    "    def show_small_book_list(self):\n",
    "        display = Display()\n",
    "        if not self.reading_list:\n",
    "            print(\"Your Book List Is Empty\")\n",
    "        else:\n",
    "            print(\"Your Reading List:\")\n",
    "        for book in self.reading_list:\n",
    "            display.display_book_short(book)   # display function\n",
    "            \n",
    "# create a class called Browse\n",
    "class Browse():\n",
    "    \n",
    "    def action1(self):\n",
    "        reading_list.add_book(list(filter(lambda book: book['id'] == selection, books))[0])\n",
    "        print(\"As you wish\")\n",
    "        time.sleep(1)\n",
    "    \n",
    "    def action2(self):\n",
    "        clear_output()\n",
    "        display.display_book_long(list(filter(lambda book: book['id'] == selection, books))[0]) #display function\n",
    "        input(\"Enter Any Key To Continue\")\n",
    "    \n",
    "    def browse_books(self, books, reading_list, subject=None):\n",
    "        display = Display()\n",
    "        while True:\n",
    "            clear_output()\n",
    "            print(f'''\n",
    "    Welcome to the Browser        \n",
    "    You are viewing {subject if subject else 'all'} books\n",
    "    [ID] \\t| {\"[TITLE]\".ljust(50)}| [SUBJECT]\n",
    "            ''')\n",
    "            if subject:\n",
    "                books=get_book_by_category(books, subject)\n",
    "            for book in books:\n",
    "                display.display_book_short(book)   # display function\n",
    "\n",
    "            selection=input(\"Select your book by ID [BACK to back out]\")   \n",
    "            if selection == \"BACK\":\n",
    "                return\n",
    "            elif selection.isnumeric() and int(selection) in map(lambda book: book['id'] ,books):\n",
    "                selection=int(selection)\n",
    "                while True:\n",
    "                    print(f'''\n",
    "                    You Selected: {list(filter(lambda book: book['id'] == selection, books))[0]['title']}\n",
    "                    1. Add Book To Reading List\n",
    "                    2. View More Information\n",
    "                    3. Go Back\n",
    "                    4. Go To Main Menu\n",
    "                    ''')\n",
    "                    action=input(\"Action: \")\n",
    "                    if action == \"1\":\n",
    "                        action1()\n",
    "                        break\n",
    "\n",
    "                    elif action == \"2\":\n",
    "                        action2()\n",
    "\n",
    "                    elif action == \"3\":\n",
    "                        break         \n",
    "\n",
    "                    elif action == \"4\":\n",
    "                        return                    \n",
    "            else:\n",
    "                print(\"Invalid ID\")\n",
    "                time.sleep(2)\n",
    "                continue\n",
    "        \n",
    "\n",
    "\n",
    "def main():\n",
    "    browsing = Browse()\n",
    "    reading_list = ReadingList()\n",
    "    books = get_books()\n",
    "    logs = Login()\n",
    "    while True:\n",
    "            clear_output()\n",
    "            print(\"Welcome to the Bookstore\")\n",
    "            email = input(\"Type your email to login or Type `register` to Register\")\n",
    "            if email == 'register':\n",
    "                success_register=logs.register()\n",
    "                if success_register:\n",
    "                    print(\"You have successfully registered\")\n",
    "                    continue\n",
    "                else:\n",
    "                    print(\"There was an error please try again\")\n",
    "                    time.sleep(2)\n",
    "                    continue\n",
    "            elif email.lower() == \"quit\":\n",
    "                print(\"Goodbye\")\n",
    "                break\n",
    "            else:\n",
    "                try:\n",
    "                    logs.login(email)\n",
    "                except:\n",
    "                    print(\"Invalid Username/Password Combo\")\n",
    "                    time.sleep(2)\n",
    "                    continue\n",
    "\n",
    "            while True:\n",
    "                clear_output()\n",
    "                print(\"\"\"\n",
    "Welcome the Repository\n",
    "You can:\n",
    "1. Browse All Books\n",
    "2. Browse Books By Category\n",
    "3. View Reading List\n",
    "4. Remove Book From Reading List\n",
    "5. Quit\n",
    "\"\"\")\n",
    "                command = input(\"Select your fate: \")\n",
    "                if command == \"1\":\n",
    "                    browsing.browse_books(books, reading_list) # browse function\n",
    "                elif command == \"2\":\n",
    "                    while True:\n",
    "                        print(\" | \".join(get_category_list(books)))\n",
    "                        cat = input(\"Category: \").lower()\n",
    "                        if cat in get_category_list(books):\n",
    "                            borwsing.browse_books(books, reading_list, cat) # browse function\n",
    "                            break\n",
    "                        print(\"Invalid category\")\n",
    "                        time.sleep(2)\n",
    "                elif command == \"3\":\n",
    "                    reading_list.show_book_list()\n",
    "                    input(\"Press Any Key To Return\")\n",
    "                elif command == \"4\":\n",
    "                    while True:\n",
    "                        clear_output()\n",
    "                        reading_list.show_small_book_list()\n",
    "                        garbage=input(\"What book ID would you like to remove? [BACK to back out]\")\n",
    "                        if garbage==\"BACK\":\n",
    "                            break\n",
    "                        elif garbage.isnumeric() and int(garbage) in map(lambda book: book['id'], reading_list.reading_list):\n",
    "                            reading_list.remove_book(list(filter(lambda book: book['id']==int(garbage) ,reading_list.reading_list))[0])\n",
    "                            print(f\"{garbage} has been removed\")\n",
    "                            time.sleep(2)\n",
    "                            break\n",
    "                        else:\n",
    "                            print(f'{garbage} is not in your collection')\n",
    "                            time.sleep(2)\n",
    "                            break\n",
    "                elif command == \"5\":\n",
    "                    print(\"Goodbye\")\n",
    "                    break\n",
    "                else:\n",
    "                    print(\"Invalid selection\")\n",
    "                    time.sleep(2)\n",
    "                    continue\n",
    "                \n",
    "            \n",
    "            \n",
    "            \n",
    "main()"
   ]
  },
  {
   "cell_type": "code",
   "execution_count": null,
   "metadata": {},
   "outputs": [],
   "source": []
  },
  {
   "cell_type": "code",
   "execution_count": null,
   "metadata": {},
   "outputs": [],
   "source": []
  }
 ],
 "metadata": {
  "kernelspec": {
   "display_name": "Python 3 (ipykernel)",
   "language": "python",
   "name": "python3"
  },
  "language_info": {
   "codemirror_mode": {
    "name": "ipython",
    "version": 3
   },
   "file_extension": ".py",
   "mimetype": "text/x-python",
   "name": "python",
   "nbconvert_exporter": "python",
   "pygments_lexer": "ipython3",
   "version": "3.9.12"
  }
 },
 "nbformat": 4,
 "nbformat_minor": 4
}
